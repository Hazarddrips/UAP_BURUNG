{
 "cells": [
  {
   "cell_type": "markdown",
   "metadata": {},
   "source": [
    "# SCRIPT FOR DATASET STRUCTURING"
   ]
  },
  {
   "cell_type": "markdown",
   "metadata": {},
   "source": [
    "#### Dataset"
   ]
  },
  {
   "cell_type": "code",
   "execution_count": null,
   "metadata": {},
   "outputs": [
    {
     "name": "stdout",
     "output_type": "stream",
     "text": [
      "Classes found in the dataset dir Fish Dataset:\n",
      "Asian Green Bee-Eater\n",
      "Brown-Headed Barbet\n",
      "Cattle Egret\n",
      "Common Kingfisher\n",
      "Common Myna\n",
      "Common Rosefinch\n",
      "Common Tailorbird\n",
      "Coppersmith Barbet\n",
      "Forest Wagtail\n",
      "Gray Wagtail\n",
      "Hoopoe\n",
      "House Crow\n",
      "Indian Grey Hornbill\n",
      "Indian Peacock\n",
      "Indian Pitta\n",
      "Indian Roller\n",
      "Jungle Babbler\n",
      "Northern Lapwing\n",
      "Red-Wattled Lapwing\n",
      "Ruddy Shelduck\n",
      "Rufous Treepie\n",
      "Sarus Crane\n",
      "White Wagtail\n",
      "White-Breasted Kingfisher\n",
      "White-Breasted Waterhen\n"
     ]
    }
   ],
   "source": [
    "import os\n",
    "\n",
    "base_path = './databur'  # Adjust to your actual directory\n",
    "\n",
    "# List directories and check the actual structure\n",
    "try:\n",
    "    classes_in_dir = os.listdir(base_path)\n",
    "    print(\"Classes found in the dataset dir Fish Dataset:\")\n",
    "    for item in classes_in_dir:\n",
    "        print(item)\n",
    "except FileNotFoundError:\n",
    "    print(f\"Error: The directory '{base_path}' does not exist.\")\n"
   ]
  },
  {
   "cell_type": "markdown",
   "metadata": {},
   "source": [
    "#### RENAMING"
   ]
  },
  {
   "cell_type": "markdown",
   "metadata": {},
   "source": [
    "Script Rename"
   ]
  },
  {
   "cell_type": "code",
   "execution_count": null,
   "metadata": {},
   "outputs": [
    {
     "name": "stdout",
     "output_type": "stream",
     "text": [
      "Renamed folder: ./databur\\Asian_Green_Bee-Eater -> ./databur\\Asian_Green_Bee_Eater\n",
      "Renamed folder: ./databur\\Brown-Headed_Barbet -> ./databur\\Brown_Headed_Barbet\n",
      "Renamed folder: ./databur\\Red-Wattled_Lapwing -> ./databur\\Red_Wattled_Lapwing\n",
      "Renamed folder: ./databur\\White-Breasted_Kingfisher -> ./databur\\White_Breasted_Kingfisher\n",
      "Renamed folder: ./databur\\White-Breasted_Waterhen -> ./databur\\White_Breasted_Waterhen\n",
      "\n",
      "Renaming completed!\n"
     ]
    }
   ],
   "source": [
    "import os\n",
    "\n",
    "# Define the base path\n",
    "base_path = './databur'\n",
    "\n",
    "def rename_items(base_path):\n",
    "    # Walk through each folder in the base path\n",
    "    for root, dirs, files in os.walk(base_path, topdown=False):  \n",
    "        # Rename files\n",
    "        for file in files:\n",
    "            old_file_path = os.path.join(root, file)\n",
    "            new_file_name = file.replace(\" \", \"_\").replace(\"-\", \"_\")  # Replace spaces and hyphens\n",
    "            new_file_path = os.path.join(root, new_file_name)\n",
    "            \n",
    "            if old_file_path != new_file_path:\n",
    "                os.rename(old_file_path, new_file_path)\n",
    "                print(f\"Renamed file: {old_file_path} -> {new_file_path}\")\n",
    "\n",
    "        # Rename directories (bottom-up to prevent conflicts)\n",
    "        for dir_name in dirs:\n",
    "            old_dir_path = os.path.join(root, dir_name)\n",
    "            # Replace both spaces and hyphens with underscores globally\n",
    "            new_dir_name = dir_name.replace(\" \", \"_\").replace(\"-\", \"_\")\n",
    "            new_dir_path = os.path.join(root, new_dir_name)\n",
    "            \n",
    "            if old_dir_path != new_dir_path:\n",
    "                os.rename(old_dir_path, new_dir_path)\n",
    "                print(f\"Renamed folder: {old_dir_path} -> {new_dir_path}\")\n",
    "\n",
    "    print(\"\\nRenaming completed!\")\n",
    "\n",
    "# Execute the function\n",
    "rename_items(base_path)\n"
   ]
  },
  {
   "cell_type": "code",
   "execution_count": null,
   "metadata": {},
   "outputs": [
    {
     "name": "stdout",
     "output_type": "stream",
     "text": [
      "Folder 'Cattle_Egret' contains 918 file(s).\n",
      "Folder 'Hoopoe' contains 924 file(s).\n",
      "Folder 'Indian_Peacock' contains 919 file(s).\n",
      "Folder 'Red_Wattled_Lapwing' contains 930 file(s).\n",
      "Folder 'Ruddy_Shelduck' contains 925 file(s).\n",
      "Folder 'Sarus_Crane' contains 930 file(s).\n",
      "Folder 'White_Breasted_Waterhen' contains 930 file(s).\n",
      "Folder 'Forest_Wagtail' contains 924 file(s).\n",
      "Folder 'Gray_Wagtail' contains 926 file(s).\n",
      "Folder 'Common_Myna' contains 926 file(s).\n",
      "Folder 'House_Crow' contains 924 file(s).\n",
      "Folder 'Common_Kingfisher' contains 924 file(s).\n"
     ]
    }
   ],
   "source": [
    "import os\n",
    "\n",
    "# Define the base path\n",
    "base_path = './databur'\n",
    "\n",
    "# Define the class names\n",
    "class_name = [\n",
    "    'Cattle_Egret',\n",
    "    'Hoopoe',\n",
    "    'Indian_Peacock',\n",
    "    'Red_Wattled_Lapwing',\n",
    "    'Ruddy_Shelduck',\n",
    "    'Sarus_Crane',\n",
    "    'White_Breasted_Waterhen',\n",
    "    'Forest_Wagtail',\n",
    "    'Gray_Wagtail',\n",
    "    'Common_Myna',\n",
    "    'House_Crow',\n",
    "    'Common_Kingfisher'\n",
    "]\n",
    "\n",
    "# Function to count files in each folder\n",
    "def count_files_in_classes(base_path, class_name):\n",
    "    for cls in class_name:\n",
    "        folder_path = os.path.join(base_path, cls)\n",
    "        if os.path.isdir(folder_path):\n",
    "            file_count = len([f for f in os.listdir(folder_path) if os.path.isfile(os.path.join(folder_path, f))])\n",
    "            print(f\"Folder '{cls}' contains {file_count} file(s).\")\n",
    "        else:\n",
    "            print(f\"Folder '{cls}' does not exist.\")\n",
    "\n",
    "# Execute the function\n",
    "count_files_in_classes(base_path, class_name)\n"
   ]
  },
  {
   "cell_type": "markdown",
   "metadata": {},
   "source": [
    "#### Reshape : Version"
   ]
  },
  {
   "cell_type": "code",
   "execution_count": null,
   "metadata": {},
   "outputs": [
    {
     "name": "stdout",
     "output_type": "stream",
     "text": [
      "Checking images in folder: Cattle_Egret\n",
      "Checking images in folder: Common_Kingfisher\n",
      "Checking images in folder: Common_Myna\n",
      "Checking images in folder: Forest_Wagtail\n",
      "Checking images in folder: Gray_Wagtail\n",
      "Checking images in folder: Hoopoe\n",
      "Checking images in folder: House_Crow\n",
      "Checking images in folder: Indian_Peacock\n",
      "Checking images in folder: Red_Wattled_Lapwing\n",
      "Checking images in folder: Ruddy_Shelduck\n",
      "Checking images in folder: Sarus_Crane\n",
      "Checking images in folder: White_Breasted_Waterhen\n",
      "All Folders/Classes have images resized to 224x224. Success!\n"
     ]
    }
   ],
   "source": [
    "import os\n",
    "from PIL import Image\n",
    "\n",
    "desired_path_2 = './DataBurung_Resize'\n",
    "\n",
    "# Function to check if all images are resized to 224x224\n",
    "def check_all_images_resized(desired_path_2):\n",
    "    all_resized = True  # Assume all images are resized until proven otherwise\n",
    "    \n",
    "    # Iterate through each class folder in the desired path\n",
    "    for cls in os.listdir(desired_path_2):\n",
    "        cls_folder = os.path.join(desired_path_2, cls)\n",
    "        \n",
    "        if os.path.isdir(cls_folder):\n",
    "            print(f\"Checking images in folder: {cls}\")\n",
    "            \n",
    "            # Check each image in the class folder\n",
    "            for img_file in os.listdir(cls_folder):\n",
    "                img_path = os.path.join(cls_folder, img_file)\n",
    "                \n",
    "                if os.path.isfile(img_path):\n",
    "                    # Open the image and check its shape\n",
    "                    with Image.open(img_path) as img:\n",
    "                        if img.size != (224, 224):\n",
    "                            print(f\"Image {img_file} in class {cls} is not 224x224, it is {img.size}\")\n",
    "                            all_resized = False  # Set to False if any image is not resized correctly\n",
    "                            break  # Exit early if we find an issue\n",
    "    \n",
    "    if all_resized:\n",
    "        print(\"All Folders/Classes have images resized to 224x224. Success!\")\n",
    "    else:\n",
    "        print(\"Some images are not resized to 224x224.\")\n",
    "\n",
    "# Execute the function\n",
    "check_all_images_resized(desired_path_2)\n"
   ]
  },
  {
   "cell_type": "markdown",
   "metadata": {},
   "source": [
    "#### 4 Class : Hoope, GrayWagtail, House Crow, Common Kingfisher"
   ]
  },
  {
   "cell_type": "code",
   "execution_count": null,
   "metadata": {},
   "outputs": [
    {
     "name": "stdout",
     "output_type": "stream",
     "text": [
      "Copied folder 'Hoopoe' to './4KelasBurung'.\n",
      "Copied folder 'Gray_Wagtail' to './4KelasBurung'.\n",
      "Copied folder 'House_Crow' to './4KelasBurung'.\n",
      "Copied folder 'Common_Kingfisher' to './4KelasBurung'.\n"
     ]
    }
   ],
   "source": [
    "import os \n",
    "import shutil\n",
    "\n",
    "# Define the base path and desired path\n",
    "base_path = './databurfull'\n",
    "desired_path = './4KelasBurung'\n",
    "\n",
    "class_name = [\n",
    "    'Hoopoe',\n",
    "    'Gray_Wagtail',\n",
    "    'House_Crow',\n",
    "    'Common_Kingfisher'\n",
    "]\n",
    "\n",
    "# Function to copy folders to the desired path\n",
    "def copy_class_folders(base_path, class_name, desired_path):\n",
    "    # Ensure the desired path exists\n",
    "    if not os.path.exists(desired_path):\n",
    "        os.makedirs(desired_path)\n",
    "    \n",
    "    # Iterate through each class folder\n",
    "    for cls in class_name:\n",
    "        src_folder = os.path.join(base_path, cls)\n",
    "        dest_folder = os.path.join(desired_path, cls)\n",
    "        \n",
    "        if os.path.isdir(src_folder):\n",
    "            # Copy folder and its contents\n",
    "            shutil.copytree(src_folder, dest_folder, dirs_exist_ok=True)\n",
    "            print(f\"Copied folder '{cls}' to '{desired_path}'.\")\n",
    "        else:\n",
    "            print(f\"Folder '{cls}' does not exist and cannot be copied.\")\n",
    "\n",
    "# Execute the function\n",
    "copy_class_folders(base_path, class_name, desired_path)"
   ]
  },
  {
   "cell_type": "code",
   "execution_count": null,
   "metadata": {},
   "outputs": [
    {
     "name": "stdout",
     "output_type": "stream",
     "text": [
      "Folder 'Hoopoe' contains 924 file(s).\n",
      "Folder 'Gray_Wagtail' contains 926 file(s).\n",
      "Folder 'House_Crow' contains 924 file(s).\n",
      "Folder 'Common_Kingfisher' contains 924 file(s).\n"
     ]
    }
   ],
   "source": [
    "import os\n",
    "\n",
    "# Define the base path\n",
    "base_path = './4KelasBurung'\n",
    "\n",
    "class_name = [\n",
    "    'Hoopoe',\n",
    "    'Gray_Wagtail',\n",
    "    'House_Crow',\n",
    "    'Common_Kingfisher'\n",
    "]\n",
    "\n",
    "# Function to count files in each folder\n",
    "def count_files_in_classes(base_path, class_name):\n",
    "    for cls in class_name:\n",
    "        folder_path = os.path.join(base_path, cls)\n",
    "        if os.path.isdir(folder_path):\n",
    "            file_count = len([f for f in os.listdir(folder_path) if os.path.isfile(os.path.join(folder_path, f))])\n",
    "            print(f\"Folder '{cls}' contains {file_count} file(s).\")\n",
    "        else:\n",
    "            print(f\"Folder '{cls}' does not exist.\")\n",
    "\n",
    "# Execute the function\n",
    "count_files_in_classes(base_path, class_name)\n"
   ]
  }
 ],
 "metadata": {
  "language_info": {
   "name": "python"
  }
 },
 "nbformat": 4,
 "nbformat_minor": 2
}
